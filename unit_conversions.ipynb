{
 "cells": [
  {
   "cell_type": "code",
   "execution_count": 48,
   "id": "0b8477ac-b117-458a-8542-e209d5f499b4",
   "metadata": {},
   "outputs": [
    {
     "data": {
      "text/html": [
       "<style>\n",
       "table {align:left;display:block}\n",
       "</style>\n"
      ],
      "text/plain": [
       "<IPython.core.display.HTML object>"
      ]
     },
     "metadata": {},
     "output_type": "display_data"
    }
   ],
   "source": [
    "%%html\n",
    "<style>\n",
    "table {align:left;display:block}\n",
    "</style>"
   ]
  },
  {
   "cell_type": "code",
   "execution_count": 50,
   "id": "323de01b-930e-443b-8c6e-dd8adf7399e2",
   "metadata": {},
   "outputs": [],
   "source": [
    "import numpy as np\n",
    "import matplotlib.pyplot as plt"
   ]
  },
  {
   "cell_type": "markdown",
   "id": "79c8ded0-f0c2-4961-aa3f-7079adf4481e",
   "metadata": {},
   "source": [
    "# Units\n",
    "\n",
    "Units of measurements are extremely important, especially while comparing with the results of others.\n",
    "\n",
    "This notebook is devoted to unit conversions.\n",
    "\n",
    "# Productivity \n",
    "\n",
    "\n",
    "| quantile | meaning | units |\n",
    "| --- | --- | --- |\n",
    "| GPP | Gross primary productivity | $\\mu$mol CO$_2$ m$^{-2}$ s$^{-1}$ |\n",
    "| AR | Autotrophic (plant) respiration | $\\mu$mol CO$_2$ m$^{-2}$ s$^{-1}$ |\n",
    "| NPP | Net primary productivity | $\\mu$mol CO$_2$ m$^{-2}$ s$^{-1}$ |\n",
    "| DMP | Dry matter productivity | kg DM ha$^{-1}$ day$^{-1}$ |\n",
    "| AGBP | Aboveground biomass productivity | kg DM ha$^{-1}$ day$^{-1}$ |\n",
    "| yield | crop yield | kg FW ha$^{-1}$ season$^{-1}$ |\n",
    "\n",
    "\n",
    "DM - dry matter – CH$_2$O or C$_6$H$_{12}$O$_6$\n",
    "\n",
    "FW – fresh matter (weight)\n",
    "\n",
    "NPP = GPP - AR\n",
    "\n",
    "AR is usually not known and a constant fraction is used (NPP = 0.5 * GPP)"
   ]
  },
  {
   "cell_type": "markdown",
   "id": "d7efdc16-d934-4a1d-94b2-b7e33dff4ef1",
   "metadata": {},
   "source": [
    "## GPP, NPP, AR\n",
    "\n",
    "### umol to g C\n",
    "\n",
    "here chemistry has to be remembered \n",
    "\n",
    "1. mol is the quantity of matter that containts 6.02E23 particles\n",
    "2. molar mass (M) shows how many grams are in one mol ([periodic table](https://ptable.com/#Properties))\n",
    "3. the numbers in formulae show how many mols of certain element are there\n",
    "    - CO2 has 1 mol of C (M=12 g mol-1) and 2 mols of O (M = 16 g mol-1)\n",
    "    - M(CO2) = M(C) + M(O) * 2 = 12 + 16 * 2 = 44 g mol-1\n",
    "4. **note, we work with micromoles, 1e-6 mol**"
   ]
  },
  {
   "cell_type": "code",
   "execution_count": 18,
   "id": "be692ae5-4dc8-4df8-9b23-4033166211a1",
   "metadata": {},
   "outputs": [],
   "source": [
    "gpp_umol = 10 # umol CO2 m-2 s-1"
   ]
  },
  {
   "cell_type": "code",
   "execution_count": 19,
   "id": "34259bea-30e3-4df0-920c-7335677c0a6b",
   "metadata": {},
   "outputs": [
    {
     "data": {
      "text/plain": [
       "0.00011999999999999999"
      ]
     },
     "execution_count": 19,
     "metadata": {},
     "output_type": "execute_result"
    }
   ],
   "source": [
    "# finish the equation\n",
    "gpp_gC = gpp_umol * 12 * 1e-6 # g C m-2 s-1\n",
    "gpp_gC"
   ]
  },
  {
   "cell_type": "markdown",
   "id": "5f250ae7-4b6f-41c8-beab-b1081447d0df",
   "metadata": {},
   "source": [
    "### s-1 to day-1\n",
    "\n",
    "1 day = 24 hours = 24 * 60 minutes = 24 * 60 * 60 seconds\n"
   ]
  },
  {
   "cell_type": "code",
   "execution_count": 20,
   "id": "4a85a784-a60f-4dcc-b35c-892766f45b06",
   "metadata": {},
   "outputs": [],
   "source": [
    "gpp_gC_s = 0.00012  # g C m-2 s-1"
   ]
  },
  {
   "cell_type": "code",
   "execution_count": 21,
   "id": "5abab09e-7714-4be1-91c7-b7c36d01d00f",
   "metadata": {},
   "outputs": [
    {
     "data": {
      "text/plain": [
       "10.368"
      ]
     },
     "execution_count": 21,
     "metadata": {},
     "output_type": "execute_result"
    }
   ],
   "source": [
    "gpp_gC_day = gpp_gC_s * 24 * 60 * 60  # g C m-2 day-1\n",
    "gpp_gC_day"
   ]
  },
  {
   "cell_type": "markdown",
   "id": "75cb5ae2-5ff7-4143-9f73-4dad8d49d840",
   "metadata": {},
   "source": [
    "### m-2 to ha-1\n",
    "\n",
    "1 ha = 10000 m2 = 1e4 m2"
   ]
  },
  {
   "cell_type": "code",
   "execution_count": 25,
   "id": "45119fe4-425b-4d85-b167-dc2ca522e592",
   "metadata": {},
   "outputs": [],
   "source": [
    "gpp_gC_day_m2 = 10.368  # g C m-2 day-1"
   ]
  },
  {
   "cell_type": "code",
   "execution_count": 27,
   "id": "3d24c99d-2ea9-4388-86fd-929c565c522c",
   "metadata": {},
   "outputs": [
    {
     "data": {
      "text/plain": [
       "103680.0"
      ]
     },
     "execution_count": 27,
     "metadata": {},
     "output_type": "execute_result"
    }
   ],
   "source": [
    "gpp_gC_day_ha = gpp_gC_day_m2 * 1e4  # g C ha-1 day-1\n",
    "gpp_gC_day_ha"
   ]
  },
  {
   "cell_type": "markdown",
   "id": "999d09bc-1425-4a10-9358-13d731e1d310",
   "metadata": {},
   "source": [
    "## DMP\n",
    "\n",
    "### g C kg DM\n",
    "\n",
    "DM - dry matter – CH$_2$O (general carbohydrate) or C$_6$H$_{12}$O$_6$ (glucose)\n",
    "\n",
    "the mass to mass conversion is done through quantity (mols)\n",
    "\n",
    "1 kg = 1e3 g"
   ]
  },
  {
   "cell_type": "code",
   "execution_count": 44,
   "id": "d54fe55c-d750-4a68-8e66-b54e756c68f7",
   "metadata": {},
   "outputs": [],
   "source": [
    "gpp_gC_day_ha = 103680  # g C ha-1 day-1\n",
    "gpp2npp = 0.5\n",
    "npp_gC_day_ha = gpp_gC_day_ha * gpp2npp  # g C ha-1 day-1\n",
    "npp_molC_day_ha = npp_gC_day_ha / 12 # mol C ha-1 day-1"
   ]
  },
  {
   "cell_type": "code",
   "execution_count": 45,
   "id": "193daf6e-b5cc-48c5-a808-253318fb4d9d",
   "metadata": {},
   "outputs": [
    {
     "data": {
      "text/plain": [
       "129600.0"
      ]
     },
     "execution_count": 45,
     "metadata": {},
     "output_type": "execute_result"
    }
   ],
   "source": [
    "dm_molCH2O_day_ha = npp_molC_day_ha / 1 # mol CH2O ha-1 day-1\n",
    "dm_gCH2O_day_ha = dm_molCH2O_day_ha * M_CH2O\n",
    "dm_gCH2O_day_ha"
   ]
  },
  {
   "cell_type": "markdown",
   "id": "e9919822-0fea-4f33-8789-225fb38ab9a3",
   "metadata": {},
   "source": [
    "what if we want to compute it for C$_6$H$_{12}$O$_6$"
   ]
  },
  {
   "cell_type": "code",
   "execution_count": 46,
   "id": "aa78576f-c31f-488a-b945-d2901385db2e",
   "metadata": {},
   "outputs": [
    {
     "data": {
      "text/plain": [
       "129600.0"
      ]
     },
     "execution_count": 46,
     "metadata": {},
     "output_type": "execute_result"
    }
   ],
   "source": [
    "M_C6H12O6 = ... # g mol-1\n",
    "M_C6H12O6 = 12*6 + 12 + 16*6 # g mol-1\n",
    "\n",
    "dm_molC6H12O6_day_ha = npp_molC_day_ha / 6 # mol C6H12O6ha-1 day-1\n",
    "dm_gC6H12O6_day_ha = dm_molC6H12O6_day_ha * M_C6H12O6\n",
    "dm_gC6H12O6_day_ha"
   ]
  },
  {
   "cell_type": "markdown",
   "id": "3da36f16-8541-418c-be34-5133c8d7c996",
   "metadata": {},
   "source": [
    "## AGBP\n",
    "\n",
    "There are many studies that estimate above ground biomass from vegetation indices, RGB images and lidar, but we are talking about AGBP/DMP ratio. \n",
    "\n",
    "In other words, crop-specific shoot to total mass ratio, above ground biomass fraction (AGB fraction, f_agb)\n",
    "\n",
    "As you may expect, this is a dynamic value over the growing season.\n",
    "\n",
    "The example computations provided here are from \n",
    "\n",
    "Baret, F., A. Olioso, and J. L. Luciani. 1992. “Root Biomass Fraction as a Function of Growth Degree Days in Wheat.” Plant and Soil 140 (1): 137–44. https://doi.org/10.1007/BF00012815."
   ]
  },
  {
   "cell_type": "code",
   "execution_count": 57,
   "id": "8db8297b-6aef-4185-8a05-dee97c75b32e",
   "metadata": {},
   "outputs": [
    {
     "data": {
      "text/plain": [
       "Text(0, 0.5, 'aboveground biomass partitioning fracton')"
      ]
     },
     "execution_count": 57,
     "metadata": {},
     "output_type": "execute_result"
    },
    {
     "data": {
      "image/png": "[encoded data removed]",
      "text/plain": [
       "<Figure size 432x288 with 1 Axes>"
      ]
     },
     "metadata": {
      "needs_background": "light"
     },
     "output_type": "display_data"
    }
   ],
   "source": [
    "gdd = np.arange(100, 2000, 100)\n",
    "gdd_e = 120  # gdd at emergence\n",
    "gdd_s = 1500  # gdd at spiking\n",
    "gdd_rel = (gdd - gdd_e) / (gdd_s - gdd_e)\n",
    "f_u = 0.12 + 0.88 * np.exp(-2.28 * gdd_rel)\n",
    "f_agb = 1 - f_u\n",
    "plt.plot(gdd, f_agb)\n",
    "\n",
    "plt.xlabel('relative growing degree days (~time)')\n",
    "plt.ylabel('aboveground biomass partitioning fracton')"
   ]
  },
  {
   "cell_type": "markdown",
   "id": "aade475d-0042-45de-a8b1-35419ab4ffaf",
   "metadata": {},
   "source": [
    "Usually the values of f_agb are taken on annual basis.\n",
    "\n",
    "Reference values for wheat 0.86, potato 0.2, sugarcane 0.8 presented in Table 2-3 in \n",
    "\n",
    "FAO. 2020. WaPOR V2 quality assessment – Technical Report on the Data Quality of the WaPOR FAO Database version 2. Rome.\n",
    "https://doi.org/10.4060/cb2208en"
   ]
  },
  {
   "cell_type": "markdown",
   "id": "d0de6d6f-25f8-4571-b3ba-973abe038b06",
   "metadata": {},
   "source": [
    "## yield\n",
    "\n",
    "0. accumulate DMP over the growing season\n",
    "1. partition DMP to AGBP (AGB fraction, f_agb) - strictly speaking, a dynamic value but we simplify\n",
    "2. partitioned AGBP to harvestable material (harvest index, HI)\n",
    "3. convert dry yield to fresh yield (moisture content of the harvestable product, $\\theta$, [g DW g$^{-1}$ FW])\n",
    "\n",
    "Crop-specific values of HI and $\\theta$ are from \n",
    "\n",
    "Bastiaanssen, Wim G.M., and Pasquale Steduto. 2017. “The Water Productivity Score (WPS) at Global and Regional Level: Methodology and First Results from Remote Sensing Measurements of Wheat, Rice and Maize.” Science of the Total Environment 575: 595–611. https://doi.org/10.1016/j.scitotenv.2016.09.032."
   ]
  },
  {
   "cell_type": "code",
   "execution_count": 60,
   "id": "26faf45b-b818-452b-98aa-b77510961e16",
   "metadata": {},
   "outputs": [],
   "source": [
    "dmp_season = 100  # kg DM ha-1 season-1"
   ]
  },
  {
   "cell_type": "code",
   "execution_count": 61,
   "id": "59a45b17-4ceb-400a-83b3-9c6c45347284",
   "metadata": {},
   "outputs": [
    {
     "data": {
      "text/plain": [
       "35.294117647058826"
      ]
     },
     "execution_count": 61,
     "metadata": {},
     "output_type": "execute_result"
    }
   ],
   "source": [
    "f_agb_wheat = 0.86  # from FAO\n",
    "hi_wheat = 0.50 # -\n",
    "theta_wheat = 0.15  # g DW g-1 FW\n",
    "\n",
    "yield_wheat = dmp_season * f_agb_wheat * hi_wheat / (1 - theta_wheat)\n",
    "yield_wheat"
   ]
  },
  {
   "cell_type": "code",
   "execution_count": 64,
   "id": "2a7b1267-6e4c-4d06-8ed6-6cca732394b4",
   "metadata": {},
   "outputs": [],
   "source": [
    "f_agb_maize = 0.90  # guess\n",
    "hi_maize = 0.55 # -\n",
    "theta_maize = 0.26  # g DW g-1 FW\n",
    "\n",
    "yield_maize = ..."
   ]
  },
  {
   "cell_type": "markdown",
   "id": "ea472ebc-1f2a-4f8c-905f-233cd368b9f7",
   "metadata": {},
   "source": [
    "Find the reference values of f_agb, HI and water content for the remaining study crops: barley, oat, rapeseed\n",
    "\n",
    "Some values are available in \n",
    "- FAO AquaCrop parameterization https://www.fao.org/fileadmin/user_upload/faowater/docs/AquaCropV40Annexes.pdf\n",
    "- WaPOR database methodology https://www.fao.org/3/ca9894en/CA9894EN.pdf\n",
    "\n"
   ]
  },
  {
   "cell_type": "markdown",
   "id": "7e52848b-4097-4c52-9295-5408348a2e20",
   "metadata": {},
   "source": [
    "# DMP datasets\n",
    "\n",
    "- Copernicus Global Land Monitoring service https://land.copernicus.eu/global/products/dmp\n",
    "    - global\n",
    "    - 333 m (since 2014), 1000 m (since 1999)\n",
    "    - 10-daily (decadal)\n",
    "    - Sentinel-3 (earlier Proba-V)\n",
    "    - LUE model\n",
    "    - https://notebooks.terrascope.be/ - access to the server for subsetting (otherwise 1 Gb compressed netcdf)\n",
    "- FAO WaPOR - https://wapor.apps.fao.org/catalog/WAPOR_2/1\n",
    "    - Africa + Middle East\n",
    "    - GPP, NPP, ETa\n",
    "    - 250 m - 100 m - 30 m\n",
    "    - 10-daily (decadal)\n",
    "    - MODIS, VIIRS, Landsat, Sentinel-2\n",
    "    - summary statistics on server\n",
    "- MODIS MOD17/MYD17 https://lpdaac.usgs.gov/products/mod17a2hv061/\n",
    "    - global\n",
    "    - 500 m\n",
    "    - 8-daily\n",
    "    - AppEARS subsetting is the most convenient"
   ]
  }
 ],
 "metadata": {
  "kernelspec": {
   "display_name": "Python 3 (ipykernel)",
   "language": "python",
   "name": "python3"
  },
  "language_info": {
   "codemirror_mode": {
    "name": "ipython",
    "version": 3
   },
   "file_extension": ".py",
   "mimetype": "text/x-python",
   "name": "python",
   "nbconvert_exporter": "python",
   "pygments_lexer": "ipython3",
   "version": "3.9.12"
  }
 },
 "nbformat": 4,
 "nbformat_minor": 5
}
